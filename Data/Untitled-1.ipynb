{
 "cells": [
  {
   "cell_type": "code",
   "execution_count": 6,
   "metadata": {},
   "outputs": [
    {
     "name": "stdout",
     "output_type": "stream",
     "text": [
      "[{'NomComarca;IDQA;NombreDeCrims;PersonesPerCentre;RendaPerCapita': 'alt camp;19.0;15378.0;147983.0;34636.0'}, {'NomComarca;IDQA;NombreDeCrims;PersonesPerCentre;RendaPerCapita': 'alt emporda;72.0;109281.0;180546.0;28003.0'}, {'NomComarca;IDQA;NombreDeCrims;PersonesPerCentre;RendaPerCapita': 'alt penedes;22.0;52140.0;108016.0;32300.0'}, {'NomComarca;IDQA;NombreDeCrims;PersonesPerCentre;RendaPerCapita': 'alt urgell;;4744.0;88989.0;25352.0'}, {'NomComarca;IDQA;NombreDeCrims;PersonesPerCentre;RendaPerCapita': 'alta ribagorca;;2055.0;23352.0;28375.0'}, {'NomComarca;IDQA;NombreDeCrims;PersonesPerCentre;RendaPerCapita': 'anoia;20.0;41359.0;162741.0;24834.0'}, {'NomComarca;IDQA;NombreDeCrims;PersonesPerCentre;RendaPerCapita': 'bages;20.0;62803.0;143940.0;29804.0'}, {'NomComarca;IDQA;NombreDeCrims;PersonesPerCentre;RendaPerCapita': 'baix camp;12.0;123380.0;209111.0;26906.0'}, {'NomComarca;IDQA;NombreDeCrims;PersonesPerCentre;RendaPerCapita': 'baix ebre;5.0;36111.0;116979.0;25375.0'}, {'NomComarca;IDQA;NombreDeCrims;PersonesPerCentre;RendaPerCapita': 'baix emporda;47.0;83707.0;185624.0;24544.0'}, {'NomComarca;IDQA;NombreDeCrims;PersonesPerCentre;RendaPerCapita': 'baix llobregat;24.0;422732.0;189323.0;36667.0'}, {'NomComarca;IDQA;NombreDeCrims;PersonesPerCentre;RendaPerCapita': 'baix penedes;;70535.0;223674.0;18515.0'}, {'NomComarca;IDQA;NombreDeCrims;PersonesPerCentre;RendaPerCapita': 'barcelones;29.0;2251761.0;266597.0;42134.0'}, {'NomComarca;IDQA;NombreDeCrims;PersonesPerCentre;RendaPerCapita': 'bergueda;16.0;8823.0;207424.0;28254.0'}, {'NomComarca;IDQA;NombreDeCrims;PersonesPerCentre;RendaPerCapita': 'cerdanya;24.0;5779.0;106956.0;24906.0'}, {'NomComarca;IDQA;NombreDeCrims;PersonesPerCentre;RendaPerCapita': 'conca de barbera;22.0;15378.0;126523.0;33713.0'}, {'NomComarca;IDQA;NombreDeCrims;PersonesPerCentre;RendaPerCapita': 'garraf;15.0;104678.0;171945.0;21090.0'}, {'NomComarca;IDQA;NombreDeCrims;PersonesPerCentre;RendaPerCapita': 'garrigues;30.0;66650.0;121194.0;24577.0'}, {'NomComarca;IDQA;NombreDeCrims;PersonesPerCentre;RendaPerCapita': 'garrigues;30.0;687.0;121194.0;24577.0'}, {'NomComarca;IDQA;NombreDeCrims;PersonesPerCentre;RendaPerCapita': 'garrotxa;31.0;20087.0;148090.0;32710.0'}, {'NomComarca;IDQA;NombreDeCrims;PersonesPerCentre;RendaPerCapita': 'girones;20.0;65051.0;241783.0;35777.0'}, {'NomComarca;IDQA;NombreDeCrims;PersonesPerCentre;RendaPerCapita': 'maresme;23.0;258771.0;179740.0;23012.0'}, {'NomComarca;IDQA;NombreDeCrims;PersonesPerCentre;RendaPerCapita': 'montsia;33.0;29170.0;216746.0;21618.0'}, {'NomComarca;IDQA;NombreDeCrims;PersonesPerCentre;RendaPerCapita': 'noguera;52.0;10816.0;156337.0;26901.0'}, {'NomComarca;IDQA;NombreDeCrims;PersonesPerCentre;RendaPerCapita': 'osona;26.0;52044.0;148542.0;32350.0'}, {'NomComarca;IDQA;NombreDeCrims;PersonesPerCentre;RendaPerCapita': 'pallars jussa;16.0;4594.0;81636.0;24671.0'}, {'NomComarca;IDQA;NombreDeCrims;PersonesPerCentre;RendaPerCapita': 'pallars sobira;43.0;2297.0;39285.0;27360.0'}, {'NomComarca;IDQA;NombreDeCrims;PersonesPerCentre;RendaPerCapita': \"pla d'urgell;30.0;66650.0;492153.0;34198.0\"}, {'NomComarca;IDQA;NombreDeCrims;PersonesPerCentre;RendaPerCapita': \"pla d'urgell;30.0;687.0;492153.0;34198.0\"}, {'NomComarca;IDQA;NombreDeCrims;PersonesPerCentre;RendaPerCapita': \"pla de l'estany;18.0;65051.0;418884.0;31355.0\"}, {'NomComarca;IDQA;NombreDeCrims;PersonesPerCentre;RendaPerCapita': 'priorat;70.0;61690.0;58632.0;20457.0'}, {'NomComarca;IDQA;NombreDeCrims;PersonesPerCentre;RendaPerCapita': \"ribera d'ebre;14.0;4312.0;94997.0;61419.0\"}, {'NomComarca;IDQA;NombreDeCrims;PersonesPerCentre;RendaPerCapita': 'ripolles;77.0;5569.0;62476.0;25680.0'}, {'NomComarca;IDQA;NombreDeCrims;PersonesPerCentre;RendaPerCapita': 'segarra;18.0;16512.0;126949.0;39620.0'}, {'NomComarca;IDQA;NombreDeCrims;PersonesPerCentre;RendaPerCapita': 'selva;20.0;116396.0;204178.0;29046.0'}, {'NomComarca;IDQA;NombreDeCrims;PersonesPerCentre;RendaPerCapita': 'solsones;19.0;3447.0;84062.0;27497.0'}, {'NomComarca;IDQA;NombreDeCrims;PersonesPerCentre;RendaPerCapita': 'tarragones;13.0;200854.0;208813.0;36839.0'}, {'NomComarca;IDQA;NombreDeCrims;PersonesPerCentre;RendaPerCapita': 'terra alta;60.0;4312.0;147184.0;30131.0'}, {'NomComarca;IDQA;NombreDeCrims;PersonesPerCentre;RendaPerCapita': 'urgell;33.0;8502.0;125040.0;30819.0'}, {'NomComarca;IDQA;NombreDeCrims;PersonesPerCentre;RendaPerCapita': \"vall d'aran;19.0;2055.0;121090.0;38042.0\"}, {'NomComarca;IDQA;NombreDeCrims;PersonesPerCentre;RendaPerCapita': 'valles occidental;31.0;433887.0;197384.0;34019.0'}, {'NomComarca;IDQA;NombreDeCrims;PersonesPerCentre;RendaPerCapita': 'valles oriental;29.0;194840.0;195986.0;34544.0'}]\n"
     ]
    }
   ],
   "source": [
    "# import csv\n",
    "import csv\n",
    "# read csv file to a list of dictionaries\n",
    "with open('DB.csv', 'r') as file:\n",
    "    csv_reader = csv.DictReader(file)\n",
    "    data = [row for row in csv_reader]\n",
    "print(data)"
   ]
  }
 ],
 "metadata": {
  "kernelspec": {
   "display_name": "mldc",
   "language": "python",
   "name": "python3"
  },
  "language_info": {
   "codemirror_mode": {
    "name": "ipython",
    "version": 3
   },
   "file_extension": ".py",
   "mimetype": "text/x-python",
   "name": "python",
   "nbconvert_exporter": "python",
   "pygments_lexer": "ipython3",
   "version": "3.12.7"
  }
 },
 "nbformat": 4,
 "nbformat_minor": 2
}
